{
 "cells": [
  {
   "cell_type": "code",
   "execution_count": 1,
   "id": "secure-forge",
   "metadata": {},
   "outputs": [
    {
     "name": "stderr",
     "output_type": "stream",
     "text": [
      "/Users/Daniel/p39/lib/python3.9/site-packages/setuptools/distutils_patch.py:25: UserWarning: Distutils was imported before Setuptools. This usage is discouraged and may exhibit undesirable behaviors or errors. Please use Setuptools' objects directly or at least import Setuptools first.\n",
      "  warnings.warn(\n"
     ]
    }
   ],
   "source": [
    "import torchvision\n",
    "from torchvision import transforms, datasets\n",
    "import models\n",
    "from torch import optim\n",
    "import torch\n",
    "from torch.utils.tensorboard import SummaryWriter\n",
    "from torch.distributions.multivariate_normal import MultivariateNormal\n",
    "import numpy as np\n",
    "from dataloader import MNISTIndexed\n",
    "from losses import LossG, NaiveLoss\n",
    "import yaml\n",
    "import random\n",
    "\n",
    "from matplotlib import pyplot as plt"
   ]
  },
  {
   "cell_type": "code",
   "execution_count": 2,
   "id": "second-madison",
   "metadata": {},
   "outputs": [],
   "source": [
    "%load_ext autoreload\n",
    "%autoreload 2"
   ]
  },
  {
   "cell_type": "code",
   "execution_count": 3,
   "id": "becoming-thousand",
   "metadata": {},
   "outputs": [],
   "source": [
    "device = torch.device('cuda' if torch.cuda.is_available() else 'cpu')\n",
    "DATASET_SIZE = 60000\n",
    "IMAGES_TO_USE = 1600\n",
    "CONTENT_CODE_LEN = 20\n",
    "BATCH_SIZE = 16"
   ]
  },
  {
   "cell_type": "code",
   "execution_count": 4,
   "id": "aboriginal-frequency",
   "metadata": {},
   "outputs": [
    {
     "name": "stdout",
     "output_type": "stream",
     "text": [
      "running with seed: 1591025859.\n"
     ]
    },
    {
     "name": "stderr",
     "output_type": "stream",
     "text": [
      "<ipython-input-4-e93c1060912d>:6: DeprecationWarning: Seeding based on hashing is deprecated\n",
      "since Python 3.9 and will be removed in a subsequent version. The only \n",
      "supported seed types are: None, int, float, str, bytes, and bytearray.\n",
      "  random.seed(seed)\n"
     ]
    }
   ],
   "source": [
    "with open(\"./conf.yaml\", \"r\") as f:\n",
    "    cfg = yaml.safe_load(f)\n",
    "seed = cfg['seed']\n",
    "if seed == -1:\n",
    "    seed = np.random.randint(2 ** 32 - 1, dtype=np.int64)\n",
    "    random.seed(seed)\n",
    "    np.random.seed(seed)\n",
    "    torch.manual_seed(seed)\n",
    "print(f'running with seed: {seed}.')"
   ]
  },
  {
   "cell_type": "code",
   "execution_count": 5,
   "id": "imposed-tower",
   "metadata": {},
   "outputs": [],
   "source": [
    "data_path = \"./datasets/MNIST/\"\n",
    "\n",
    "# Define a transform to normalize the data\n",
    "transform = transforms.Compose([transforms.ToTensor(),\n",
    "                              ])\n",
    "\n",
    "# Download and load the data\n",
    "mnist_data = MNISTIndexed(data_path, download=True, train=True, transform=transform)\n",
    "used_indices = np.random.randint(0, DATASET_SIZE, IMAGES_TO_USE)\n",
    "mnist_subsample = torch.utils.data.Subset(mnist_data, used_indices)\n",
    "mnist_dataloader = torch.utils.data.DataLoader(mnist_subsample, batch_size=BATCH_SIZE, shuffle=True)"
   ]
  },
  {
   "cell_type": "code",
   "execution_count": 6,
   "id": "broadband-replication",
   "metadata": {},
   "outputs": [],
   "source": [
    "criterion = NaiveLoss(cfg)"
   ]
  },
  {
   "cell_type": "code",
   "execution_count": 7,
   "id": "directed-amsterdam",
   "metadata": {},
   "outputs": [],
   "source": [
    "model = models.GeneratorBasic(CONTENT_CODE_LEN, 4, 10, (BATCH_SIZE, 1, 28, 28))"
   ]
  },
  {
   "cell_type": "code",
   "execution_count": 8,
   "id": "finite-state",
   "metadata": {},
   "outputs": [],
   "source": [
    "def train_model(model, tboard_name, loss_func, train_loader, epochs=50, lr=1e-3, noise_std=0.5, reg_factor=1e-6):\n",
    "    writer = SummaryWriter(log_dir='logs/' + tboard_name)\n",
    "    optimizer = optim.Adam(model.parameters(), lr=lr)\n",
    " \n",
    "    # prepare the data\n",
    "    # TODO play with initizalization and refactor?\n",
    "    class_codes = torch.normal(0.5, noise_std, (10, 10)).to(device)\n",
    "    content_codes = torch.normal(0.5, noise_std, (DATASET_SIZE, CONTENT_CODE_LEN)).to(device)\n",
    "    \n",
    "    # set up some variables for the visualizations\n",
    "    display_contents = used_indices[:4]\n",
    "    display_classes = [0, 1, 2, 3]\n",
    "\n",
    "    for epoch in range(epochs):\n",
    "        model.train()\n",
    "\n",
    "        losses = []\n",
    "        for data_row in train_loader:\n",
    "            # get the inputs; data is a list of [inputs, labels]\n",
    "            images, labels, indices = data_row\n",
    "            images = images.to(device)\n",
    "\n",
    "            # create input for network\n",
    "            cur_content, cur_class = content_codes[indices], class_codes[labels]\n",
    "            cur_content.requires_grad_(True)\n",
    "            cur_class.requires_grad_(True)\n",
    "            noisy_code = cur_content + torch.rand(CONTENT_CODE_LEN) * noise_std\n",
    "            inputs = torch.cat((cur_class, noisy_code), 1)\n",
    "\n",
    "            # zero the parameter gradients\n",
    "            optimizer.zero_grad()\n",
    "\n",
    "            # forward + backward + optimize\n",
    "            outputs = model(inputs)\n",
    "            \n",
    "            loss = loss_func(torch.cat([outputs, outputs, outputs], dim=1), torch.cat([images, images, images], dim=1), cur_content)\n",
    "            loss.backward()\n",
    "            optimizer.step()\n",
    "\n",
    "            # statistics\n",
    "            losses.append(loss.item())\n",
    "        \n",
    "        model.eval()\n",
    "        inputs = []\n",
    "        for disp_classes in display_classes:\n",
    "            for disp_contents in display_contents:\n",
    "                inputs.append(torch.cat((class_codes[disp_classes], content_codes[disp_contents])).unsqueeze(0))\n",
    "        outputs = model(torch.cat(inputs, 0))\n",
    "        img_grid = torchvision.utils.make_grid(outputs,nrow=4)\n",
    "        writer.add_image('Epoch ' + str(epoch+1),img_grid)\n",
    "\n",
    "        writer.add_scalar('loss', np.mean(losses), epoch)\n",
    "        print(\"Epoch: {}, loss: {}\\n\".format(epoch, np.mean(losses)))\n",
    "\n",
    "    writer.close()"
   ]
  },
  {
   "cell_type": "code",
   "execution_count": 9,
   "id": "israeli-accuracy",
   "metadata": {},
   "outputs": [
    {
     "name": "stdout",
     "output_type": "stream",
     "text": [
      "Epoch: 0, loss: 0.37437031596899034\n",
      "\n",
      "Epoch: 1, loss: 0.30358454495668413\n",
      "\n",
      "Epoch: 2, loss: 0.28559818655252456\n",
      "\n",
      "Epoch: 3, loss: 0.27821382507681847\n",
      "\n",
      "Epoch: 4, loss: 0.2758671416342258\n",
      "\n",
      "Epoch: 5, loss: 0.2744828520715237\n",
      "\n",
      "Epoch: 6, loss: 0.2737030744552612\n",
      "\n",
      "Epoch: 7, loss: 0.27254353150725363\n",
      "\n",
      "Epoch: 8, loss: 0.27210637167096136\n",
      "\n",
      "Epoch: 9, loss: 0.27127748414874076\n",
      "\n",
      "Epoch: 10, loss: 0.2702812401950359\n",
      "\n",
      "Epoch: 11, loss: 0.26972040578722956\n",
      "\n",
      "Epoch: 12, loss: 0.2687340289354324\n",
      "\n",
      "Epoch: 13, loss: 0.2681415903568268\n",
      "\n",
      "Epoch: 14, loss: 0.26724010914564134\n",
      "\n",
      "Epoch: 15, loss: 0.26597691252827643\n",
      "\n",
      "Epoch: 16, loss: 0.26532404124736786\n",
      "\n",
      "Epoch: 17, loss: 0.2648063203692436\n",
      "\n",
      "Epoch: 18, loss: 0.26331633076071737\n",
      "\n",
      "Epoch: 19, loss: 0.26277846455574033\n",
      "\n",
      "Epoch: 20, loss: 0.2606666797399521\n",
      "\n",
      "Epoch: 21, loss: 0.26011467203497884\n",
      "\n",
      "Epoch: 22, loss: 0.25858143880963325\n",
      "\n",
      "Epoch: 23, loss: 0.25717959985136984\n",
      "\n",
      "Epoch: 24, loss: 0.2569903887808323\n",
      "\n",
      "Epoch: 25, loss: 0.2552080246806145\n",
      "\n",
      "Epoch: 26, loss: 0.25425326511263846\n",
      "\n",
      "Epoch: 27, loss: 0.2533000119030476\n",
      "\n",
      "Epoch: 28, loss: 0.2519916546344757\n",
      "\n",
      "Epoch: 29, loss: 0.24986805215477945\n",
      "\n",
      "Epoch: 30, loss: 0.2492633256316185\n",
      "\n",
      "Epoch: 31, loss: 0.24941124752163887\n",
      "\n",
      "Epoch: 32, loss: 0.24640361100435257\n",
      "\n",
      "Epoch: 33, loss: 0.24509265899658203\n",
      "\n",
      "Epoch: 34, loss: 0.24393572226166726\n",
      "\n",
      "Epoch: 35, loss: 0.24379156425595283\n",
      "\n",
      "Epoch: 36, loss: 0.2426060800254345\n",
      "\n",
      "Epoch: 37, loss: 0.2416184689104557\n",
      "\n",
      "Epoch: 38, loss: 0.23995334520936012\n",
      "\n",
      "Epoch: 39, loss: 0.23914603903889656\n",
      "\n",
      "Epoch: 40, loss: 0.23826005607843398\n",
      "\n",
      "Epoch: 41, loss: 0.2376129671931267\n",
      "\n",
      "Epoch: 42, loss: 0.2370591251552105\n",
      "\n",
      "Epoch: 43, loss: 0.2359776769578457\n",
      "\n",
      "Epoch: 44, loss: 0.2345161871612072\n",
      "\n",
      "Epoch: 45, loss: 0.23360487923026085\n",
      "\n",
      "Epoch: 46, loss: 0.23279859453439714\n",
      "\n",
      "Epoch: 47, loss: 0.23232428044080733\n",
      "\n",
      "Epoch: 48, loss: 0.22918318182229996\n",
      "\n",
      "Epoch: 49, loss: 0.23021129176020622\n",
      "\n"
     ]
    }
   ],
   "source": [
    "train_model(model, \"checkNaiveGen4\", criterion, mnist_dataloader, epochs=50, lr=1e-3, noise_std=0.3, reg_factor=1e-6)"
   ]
  }
 ],
 "metadata": {
  "kernelspec": {
   "display_name": "Python 3",
   "language": "python",
   "name": "python3"
  },
  "language_info": {
   "codemirror_mode": {
    "name": "ipython",
    "version": 3
   },
   "file_extension": ".py",
   "mimetype": "text/x-python",
   "name": "python",
   "nbconvert_exporter": "python",
   "pygments_lexer": "ipython3",
   "version": "3.9.1"
  }
 },
 "nbformat": 4,
 "nbformat_minor": 5
}
